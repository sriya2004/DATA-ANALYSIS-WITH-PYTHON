{
 "cells": [
  {
   "cell_type": "code",
   "execution_count": 1,
   "id": "783e9d3b",
   "metadata": {},
   "outputs": [],
   "source": [
    "from selenium import webdriver\n",
    "from selenium.webdriver.chrome.options import Options\n",
    "from selenium.webdriver.common.by import By\n",
    "from selenium.webdriver.common.keys import Keys\n",
    "from webdriver_manager.chrome import ChromeDriverManager\n",
    "import pandas as pd"
   ]
  },
  {
   "cell_type": "code",
   "execution_count": 2,
   "id": "d0f67dad",
   "metadata": {},
   "outputs": [],
   "source": [
    "options=webdriver.ChromeOptions()\n",
    "driver=webdriver.Chrome(options=options)"
   ]
  },
  {
   "cell_type": "code",
   "execution_count": 3,
   "id": "33a16aff",
   "metadata": {},
   "outputs": [],
   "source": [
    "driver.get(\"https://www.amazon.in/\")"
   ]
  },
  {
   "cell_type": "code",
   "execution_count": 5,
   "id": "d73ea96c",
   "metadata": {},
   "outputs": [],
   "source": [
    "search=driver.find_element(By.XPATH,\".//input[@id='twotabsearchtextbox']\")"
   ]
  },
  {
   "cell_type": "code",
   "execution_count": 6,
   "id": "7d508c05",
   "metadata": {},
   "outputs": [],
   "source": [
    "search.send_keys('dell laptops')"
   ]
  },
  {
   "cell_type": "code",
   "execution_count": 7,
   "id": "5942eb04",
   "metadata": {},
   "outputs": [],
   "source": [
    "search.send_keys(Keys.ENTER)"
   ]
  },
  {
   "cell_type": "code",
   "execution_count": 11,
   "id": "f2b01ea7",
   "metadata": {},
   "outputs": [
    {
     "name": "stdout",
     "output_type": "stream",
     "text": [
      "['35,990', '35,990', '44,990', '43,990', '49,990', '33,990', '67,980', '35,990', '47,990', '35,990', '53,990', '22,490', '35,990', '71,490', '99,990', '71,990', '65,990', '46,600', '55,990', '43,990', '74,000', '50,990']\n"
     ]
    },
    {
     "data": {
      "text/plain": [
       "22"
      ]
     },
     "execution_count": 11,
     "metadata": {},
     "output_type": "execute_result"
    }
   ],
   "source": [
    "price=driver.find_elements(By.XPATH,\".//span[@class='a-price-whole']\")\n",
    "price=[i.text for i in price]\n",
    "print(price)\n",
    "len(price)"
   ]
  },
  {
   "cell_type": "code",
   "execution_count": 12,
   "id": "c1bd82f3",
   "metadata": {},
   "outputs": [
    {
     "name": "stdout",
     "output_type": "stream",
     "text": [
      "['Dell 15 Laptop, Intel 12th Gen Core i3-1215U Proc/8GB DDR4/512GB SSD/Intel UHD Graphic/15.6\" (38cm) FHD Display/Spill-Resistant Keyboard/Win11+MSO\\'21/15 Month McAfee/Black/Thin & Light 1.69kg', 'Dell 14 Laptop, 12th Gen Intel Core i3-1215U Processor/8GB/512GB SSD/Intel UHD Graphics/14.0\"(35.56cm) FHD/Windows 11 + MSO\\'21/15 Month McAfee/Spill-Resistant Keyboard/Grey/Thin & Light 1.48kg', 'Dell 15 Laptop, Intel Core i5-1135G7 Processor/ 8GB/ 1TB+256GB SSD/15.6\"(39.62cm) FHD Display/Mobile Connect/Windows 11 + MSO\\'21/15 Month McAfee/Spill-Resistant Keyboard/Black/Thin & Light 1.69kg', 'Dell 15 Laptop, Intel Core i5-1135G7 Processor/ 8GB DDR4/ 512GB SSD/ 15.6\" (39.62cm) FHD/Mobile Connect/Windows 11 + MSO\\'21/15 Month McAfee/Spill-Resistant Keyboard/Carbon Black/Thin & Light-1.69kg', 'Dell 14 Laptop, 12th Gen Intel Core i5-1235U Processor, 16GB, 512GB, 14.0\" (35.56cm) FHD Display, Windows 11 + MSO\\'21, Spill-Resistant Keyboard, 15 Month Mcafee, Black, Thin & Light- 1.48kg', 'Dell 15 Laptop, Intel Core i3-1115G4 Processor/8GB DDR4/512GB SSD/Intel UHD Graphics/15.6\" (39.6cm) FHD 120Hz Refresh, 250 nits/Mobile Connect/Win 11+MSO\\'21/15 Month McAfee/Black/Thin & Light-1.66kg', 'Dell Inspiron 3530 Laptop, 13th Gen Intel Core i5-1335U Processor/16GB/1TB SSD/15.6\" (39.62cm) FHD Display/Backlit Keyboard/Platinum Silver/Win 11 + MSO\\'21/15 Month McAfee/Thin & Light- 1.66kg', 'Dell 14 Laptop, 12th Gen Intel Core i3-1215U Processor/8GB/512GB SSD/Intel UHD Graphics/14.0\"(35.56cm) FHD/Windows 11 + MSO\\'21/15 Month McAfee/Spill-Resistant Keyboard/Grey/Thin & Light 1.48kg', 'Dell 15 Laptop, Intel Core i5-1135G7 Processor/16GB DDR4/512GB SSD/Intel UHD Graphic/15.6\" (39.562cm) FHD Display/Win 11+MSO\\'21/15 Month McAfee/Spill-Resistant Keyboard/Carbon/Thin & Light 1.69kg', 'Dell 14 Laptop, AMD Ryzen R5-5500U/ 8GB DDR4, 2400 MHz/ 512GB/ 14.0\" (35.56cm) FHD Display with Comfort View/Windows 11 + MSO\\'21/15 Month McAfee/Spill-Resistant Keyboard/Carbon Black/ 1.48kg', 'Lenovo ThinkBook 15 Intel 12th Gen Core i5 15.6\" (39.62cm) FHD 250 Nits Antiglare Thin and Light Laptop (8GB/512GB SSD/Windows 11 Home/Backlit/Mineral Grey/1Y Premier Support/1.7 Kg), 21DJ00EXIH', 'Lenovo IdeaPad 1 Intel Core Celeron N4020 14\" HD Thin and Light Laptop (4 GB/256GB SDD/Windows 11 Home/1Yr Warranty/Cloud Grey/1.3Kg), 82V6005CIN', 'Dell 15 Laptop, Intel 12th Gen Core i3-1215U Proc/8GB DDR4/512GB SSD/Intel UHD Graphic/15.6\" (38cm) FHD Display/Spill-Resistant Keyboard/Win11+MSO\\'21/15 Month McAfee/Black/Thin & Light 1.69kg', 'Dell Inspiron 3530 Laptop, Intel Core i7-1355U Processor, 16GB, 512GB, 15.6\" (39.62cm) FHD WVA AG 120Hz, Backlit KB + FPR, Win 11 + MSO\\'21, 15 Month McAfee, Silver, 1.62kg', 'Dell G15 5530 Gaming Laptop, Intel i7-13650HX/16GB/1TB SSD/NVIDIA RTX 3050, 6 GB GDDR6/15.6\" (39.62cm) FHD AG 120Hz 250 nits/Backlit KB RGB/Dark Shadow Grey/Win 11+MSO\\'21/15 Month McAfee/2.65kg', 'Dell G15 5520 Gaming Laptop, Intel i5-12500H, 16GB DDR5, 512GB SSD, NVIDIA RTX 3050 (4GB GDDR6), 15.6\"(39.62cm) FHD 120Hz 250 nits Display, Backlit KB Orange, Win 11 + MSO\\'21, Dark Shadow Grey, 2.81kg', 'Dell G15-5520 Gaming Laptop, Intel i5-12500H/8GB DDR5/512GB SSD/Win 11 + MSO\\'21/NVIDIA RTX 3050 (4GB GDDR6)/15.6\" (39.62cm) FHD WVA AG 120Hz 250 nits/Backlit KB Orange/Dark Shadow Grey/2.81kg', 'Dell Inspiron 3520 Laptop, Intel Core i5-1235U Processor, 8GB, 512GB, 15.6\" (39.62cm) FHD WVA AG 120Hz 250 nits, Win 11 + MSO\\'21, 15 Month MCAfee, Black, 1.65kg', 'Dell 14 Metal Body Premium Laptop, Intel Core i5-1235U Proc/16GB DDR4/512GB SSD/Intel UHD Graphics/14.0\" (35.56cm) FHD/Backlit Keyboard/Thin & Light 1.48kg/Win 11 + MSO\\'21/15 Month McAfee/Dark Silver', 'Dell 15 Laptop, Intel Core i5-1135G7 Processor/8GB DDR4/512GB/Intel UHD Graphic/15.6\" (39.62cm) FHD/Backlit KB + FPR/Mobile Connect/Windows 11 + MSO\\'21/15 Months McAfee/Dark Silver/Thin & Light 1.69kg', 'Lenovo ThinkPad E14 Intel Core i5 12th Gen 14\" FHD Thin and Light Laptop (16GB RAM/1TB SSD/Windows 11 Home/MS Office H&S 2021/FPR/Backlit Keyboard/Black/1.59 kg), 21E3S04U00', 'Lenovo IdeaPad Gaming 3 Intel Core i5-11320H 15.6\" (39.62cm) FHD IPS 60Hz Gaming Laptop (8GB/512GB SSD/Windows 11/NVIDIA RTX 2050 4GB/Alexa/3 Month Game Pass/Shadow Black/2.25Kg), 82K101PCIN']\n"
     ]
    },
    {
     "data": {
      "text/plain": [
       "22"
      ]
     },
     "execution_count": 12,
     "metadata": {},
     "output_type": "execute_result"
    }
   ],
   "source": [
    "f=driver.find_elements(By.XPATH,\".//span[@class='a-size-medium a-color-base a-text-normal']\")\n",
    "f=[i.text for i in f]\n",
    "print(f)\n",
    "len(f)"
   ]
  },
  {
   "cell_type": "code",
   "execution_count": 13,
   "id": "480ba481",
   "metadata": {},
   "outputs": [
    {
     "data": {
      "text/html": [
       "<div>\n",
       "<style scoped>\n",
       "    .dataframe tbody tr th:only-of-type {\n",
       "        vertical-align: middle;\n",
       "    }\n",
       "\n",
       "    .dataframe tbody tr th {\n",
       "        vertical-align: top;\n",
       "    }\n",
       "\n",
       "    .dataframe thead th {\n",
       "        text-align: right;\n",
       "    }\n",
       "</style>\n",
       "<table border=\"1\" class=\"dataframe\">\n",
       "  <thead>\n",
       "    <tr style=\"text-align: right;\">\n",
       "      <th></th>\n",
       "      <th>Price</th>\n",
       "      <th>f</th>\n",
       "    </tr>\n",
       "  </thead>\n",
       "  <tbody>\n",
       "  </tbody>\n",
       "</table>\n",
       "</div>"
      ],
      "text/plain": [
       "Empty DataFrame\n",
       "Columns: [Price, f]\n",
       "Index: []"
      ]
     },
     "execution_count": 13,
     "metadata": {},
     "output_type": "execute_result"
    }
   ],
   "source": [
    "df=pd.DataFrame(columns=[\"Price\",\"f\"])\n",
    "df"
   ]
  },
  {
   "cell_type": "code",
   "execution_count": 14,
   "id": "b14528f7",
   "metadata": {},
   "outputs": [
    {
     "data": {
      "text/html": [
       "<div>\n",
       "<style scoped>\n",
       "    .dataframe tbody tr th:only-of-type {\n",
       "        vertical-align: middle;\n",
       "    }\n",
       "\n",
       "    .dataframe tbody tr th {\n",
       "        vertical-align: top;\n",
       "    }\n",
       "\n",
       "    .dataframe thead th {\n",
       "        text-align: right;\n",
       "    }\n",
       "</style>\n",
       "<table border=\"1\" class=\"dataframe\">\n",
       "  <thead>\n",
       "    <tr style=\"text-align: right;\">\n",
       "      <th></th>\n",
       "      <th>Price</th>\n",
       "      <th>f</th>\n",
       "      <th>features</th>\n",
       "    </tr>\n",
       "  </thead>\n",
       "  <tbody>\n",
       "    <tr>\n",
       "      <th>0</th>\n",
       "      <td>35,990</td>\n",
       "      <td>NaN</td>\n",
       "      <td>Dell 15 Laptop, Intel 12th Gen Core i3-1215U P...</td>\n",
       "    </tr>\n",
       "    <tr>\n",
       "      <th>1</th>\n",
       "      <td>35,990</td>\n",
       "      <td>NaN</td>\n",
       "      <td>Dell 14 Laptop, 12th Gen Intel Core i3-1215U P...</td>\n",
       "    </tr>\n",
       "    <tr>\n",
       "      <th>2</th>\n",
       "      <td>44,990</td>\n",
       "      <td>NaN</td>\n",
       "      <td>Dell 15 Laptop, Intel Core i5-1135G7 Processor...</td>\n",
       "    </tr>\n",
       "    <tr>\n",
       "      <th>3</th>\n",
       "      <td>43,990</td>\n",
       "      <td>NaN</td>\n",
       "      <td>Dell 15 Laptop, Intel Core i5-1135G7 Processor...</td>\n",
       "    </tr>\n",
       "    <tr>\n",
       "      <th>4</th>\n",
       "      <td>49,990</td>\n",
       "      <td>NaN</td>\n",
       "      <td>Dell 14 Laptop, 12th Gen Intel Core i5-1235U P...</td>\n",
       "    </tr>\n",
       "    <tr>\n",
       "      <th>5</th>\n",
       "      <td>33,990</td>\n",
       "      <td>NaN</td>\n",
       "      <td>Dell 15 Laptop, Intel Core i3-1115G4 Processor...</td>\n",
       "    </tr>\n",
       "    <tr>\n",
       "      <th>6</th>\n",
       "      <td>67,980</td>\n",
       "      <td>NaN</td>\n",
       "      <td>Dell Inspiron 3530 Laptop, 13th Gen Intel Core...</td>\n",
       "    </tr>\n",
       "    <tr>\n",
       "      <th>7</th>\n",
       "      <td>35,990</td>\n",
       "      <td>NaN</td>\n",
       "      <td>Dell 14 Laptop, 12th Gen Intel Core i3-1215U P...</td>\n",
       "    </tr>\n",
       "    <tr>\n",
       "      <th>8</th>\n",
       "      <td>47,990</td>\n",
       "      <td>NaN</td>\n",
       "      <td>Dell 15 Laptop, Intel Core i5-1135G7 Processor...</td>\n",
       "    </tr>\n",
       "    <tr>\n",
       "      <th>9</th>\n",
       "      <td>35,990</td>\n",
       "      <td>NaN</td>\n",
       "      <td>Dell 14 Laptop, AMD Ryzen R5-5500U/ 8GB DDR4, ...</td>\n",
       "    </tr>\n",
       "    <tr>\n",
       "      <th>10</th>\n",
       "      <td>53,990</td>\n",
       "      <td>NaN</td>\n",
       "      <td>Lenovo ThinkBook 15 Intel 12th Gen Core i5 15....</td>\n",
       "    </tr>\n",
       "    <tr>\n",
       "      <th>11</th>\n",
       "      <td>22,490</td>\n",
       "      <td>NaN</td>\n",
       "      <td>Lenovo IdeaPad 1 Intel Core Celeron N4020 14\" ...</td>\n",
       "    </tr>\n",
       "    <tr>\n",
       "      <th>12</th>\n",
       "      <td>35,990</td>\n",
       "      <td>NaN</td>\n",
       "      <td>Dell 15 Laptop, Intel 12th Gen Core i3-1215U P...</td>\n",
       "    </tr>\n",
       "    <tr>\n",
       "      <th>13</th>\n",
       "      <td>71,490</td>\n",
       "      <td>NaN</td>\n",
       "      <td>Dell Inspiron 3530 Laptop, Intel Core i7-1355U...</td>\n",
       "    </tr>\n",
       "    <tr>\n",
       "      <th>14</th>\n",
       "      <td>99,990</td>\n",
       "      <td>NaN</td>\n",
       "      <td>Dell G15 5530 Gaming Laptop, Intel i7-13650HX/...</td>\n",
       "    </tr>\n",
       "    <tr>\n",
       "      <th>15</th>\n",
       "      <td>71,990</td>\n",
       "      <td>NaN</td>\n",
       "      <td>Dell G15 5520 Gaming Laptop, Intel i5-12500H, ...</td>\n",
       "    </tr>\n",
       "    <tr>\n",
       "      <th>16</th>\n",
       "      <td>65,990</td>\n",
       "      <td>NaN</td>\n",
       "      <td>Dell G15-5520 Gaming Laptop, Intel i5-12500H/8...</td>\n",
       "    </tr>\n",
       "    <tr>\n",
       "      <th>17</th>\n",
       "      <td>46,600</td>\n",
       "      <td>NaN</td>\n",
       "      <td>Dell Inspiron 3520 Laptop, Intel Core i5-1235U...</td>\n",
       "    </tr>\n",
       "    <tr>\n",
       "      <th>18</th>\n",
       "      <td>55,990</td>\n",
       "      <td>NaN</td>\n",
       "      <td>Dell 14 Metal Body Premium Laptop, Intel Core ...</td>\n",
       "    </tr>\n",
       "    <tr>\n",
       "      <th>19</th>\n",
       "      <td>43,990</td>\n",
       "      <td>NaN</td>\n",
       "      <td>Dell 15 Laptop, Intel Core i5-1135G7 Processor...</td>\n",
       "    </tr>\n",
       "    <tr>\n",
       "      <th>20</th>\n",
       "      <td>74,000</td>\n",
       "      <td>NaN</td>\n",
       "      <td>Lenovo ThinkPad E14 Intel Core i5 12th Gen 14\"...</td>\n",
       "    </tr>\n",
       "    <tr>\n",
       "      <th>21</th>\n",
       "      <td>50,990</td>\n",
       "      <td>NaN</td>\n",
       "      <td>Lenovo IdeaPad Gaming 3 Intel Core i5-11320H 1...</td>\n",
       "    </tr>\n",
       "  </tbody>\n",
       "</table>\n",
       "</div>"
      ],
      "text/plain": [
       "     Price    f                                           features\n",
       "0   35,990  NaN  Dell 15 Laptop, Intel 12th Gen Core i3-1215U P...\n",
       "1   35,990  NaN  Dell 14 Laptop, 12th Gen Intel Core i3-1215U P...\n",
       "2   44,990  NaN  Dell 15 Laptop, Intel Core i5-1135G7 Processor...\n",
       "3   43,990  NaN  Dell 15 Laptop, Intel Core i5-1135G7 Processor...\n",
       "4   49,990  NaN  Dell 14 Laptop, 12th Gen Intel Core i5-1235U P...\n",
       "5   33,990  NaN  Dell 15 Laptop, Intel Core i3-1115G4 Processor...\n",
       "6   67,980  NaN  Dell Inspiron 3530 Laptop, 13th Gen Intel Core...\n",
       "7   35,990  NaN  Dell 14 Laptop, 12th Gen Intel Core i3-1215U P...\n",
       "8   47,990  NaN  Dell 15 Laptop, Intel Core i5-1135G7 Processor...\n",
       "9   35,990  NaN  Dell 14 Laptop, AMD Ryzen R5-5500U/ 8GB DDR4, ...\n",
       "10  53,990  NaN  Lenovo ThinkBook 15 Intel 12th Gen Core i5 15....\n",
       "11  22,490  NaN  Lenovo IdeaPad 1 Intel Core Celeron N4020 14\" ...\n",
       "12  35,990  NaN  Dell 15 Laptop, Intel 12th Gen Core i3-1215U P...\n",
       "13  71,490  NaN  Dell Inspiron 3530 Laptop, Intel Core i7-1355U...\n",
       "14  99,990  NaN  Dell G15 5530 Gaming Laptop, Intel i7-13650HX/...\n",
       "15  71,990  NaN  Dell G15 5520 Gaming Laptop, Intel i5-12500H, ...\n",
       "16  65,990  NaN  Dell G15-5520 Gaming Laptop, Intel i5-12500H/8...\n",
       "17  46,600  NaN  Dell Inspiron 3520 Laptop, Intel Core i5-1235U...\n",
       "18  55,990  NaN  Dell 14 Metal Body Premium Laptop, Intel Core ...\n",
       "19  43,990  NaN  Dell 15 Laptop, Intel Core i5-1135G7 Processor...\n",
       "20  74,000  NaN  Lenovo ThinkPad E14 Intel Core i5 12th Gen 14\"...\n",
       "21  50,990  NaN  Lenovo IdeaPad Gaming 3 Intel Core i5-11320H 1..."
      ]
     },
     "execution_count": 14,
     "metadata": {},
     "output_type": "execute_result"
    }
   ],
   "source": [
    "df['Price']=price\n",
    "df['features']=f\n",
    "df"
   ]
  },
  {
   "cell_type": "code",
   "execution_count": 15,
   "id": "5a8c1c8f",
   "metadata": {},
   "outputs": [],
   "source": [
    "df.to_csv('selenium.csv')"
   ]
  }
 ],
 "metadata": {
  "kernelspec": {
   "display_name": "Python 3 (ipykernel)",
   "language": "python",
   "name": "python3"
  },
  "language_info": {
   "codemirror_mode": {
    "name": "ipython",
    "version": 3
   },
   "file_extension": ".py",
   "mimetype": "text/x-python",
   "name": "python",
   "nbconvert_exporter": "python",
   "pygments_lexer": "ipython3",
   "version": "3.11.5"
  }
 },
 "nbformat": 4,
 "nbformat_minor": 5
}
